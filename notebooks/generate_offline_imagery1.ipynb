{
  "nbformat": 4,
  "nbformat_minor": 0,
  "metadata": {
    "colab": {
      "provenance": [],
      "toc_visible": true,
      "include_colab_link": true
    },
    "kernelspec": {
      "name": "python3",
      "display_name": "Python 3"
    },
    "language_info": {
      "name": "python"
    }
  },
  "cells": [
    {
      "cell_type": "markdown",
      "metadata": {
        "id": "view-in-github",
        "colab_type": "text"
      },
      "source": [
        "<a href=\"https://colab.research.google.com/github/google/ground-platform/blob/master/notebooks/generate_offline_imagery1.ipynb\" target=\"_parent\"><img src=\"https://colab.research.google.com/assets/colab-badge.svg\" alt=\"Open In Colab\"/></a>"
      ]
    },
    {
      "cell_type": "markdown",
      "source": [
        "# Generate Ground offline imagery (1/3)\n",
        "\n",
        "This notebook generates a series of sliced cloud-optimized GeoTIFFs (COGs)\n",
        "for use with the Ground data collection platform Android app.\n",
        "\n",
        "Notebooks in this set are intended to be run in order:\n",
        "\n",
        "1. Generate Ground offline imagery (this notebook)\n",
        "2. [Build COGs from exported GeoTIFFs](TODO)\n",
        "3. [Build masked world MOG](TODO)."
      ],
      "metadata": {
        "id": "qZ4He4yuyIPZ"
      }
    },
    {
      "cell_type": "markdown",
      "source": [
        "## Configure all the things"
      ],
      "metadata": {
        "id": "lwLfn7pPB3H8"
      }
    },
    {
      "cell_type": "markdown",
      "source": [
        "### Essential conf - UPDATE ME!\n",
        "\n",
        "**The constants must be set before running.**"
      ],
      "metadata": {
        "id": "263Dqfl0OuYh"
      }
    },
    {
      "cell_type": "code",
      "source": [
        "# Country of interest name as it appears in FAO GAUL 2015.\n",
        "COUNTRY_NAME = 'Ghana'\n",
        "\n",
        "# Bucket where GeoTIFFs should be written.\n",
        "DEST_BUCKET='ground-raster-basemaps'\n",
        "\n",
        "# Google Cloud Project from which Earth Engine will be accessed.\n",
        "CLOUD_PROJECT='ground-public-datasets'"
      ],
      "metadata": {
        "id": "iA2QLfo1_jzU"
      },
      "execution_count": null,
      "outputs": []
    },
    {
      "cell_type": "markdown",
      "source": [
        "### Optional config\n",
        "\n",
        "The constants may be adjusted based on your needs."
      ],
      "metadata": {
        "id": "kYjV5ofm_tm0"
      }
    },
    {
      "cell_type": "code",
      "source": [
        "START_DATE = '2022-01-01'\n",
        "END_DATE = '2023-01-01'\n",
        "DEST_PATH='2022/geotiff'\n",
        "OVERWRITE_EXISTING = False"
      ],
      "metadata": {
        "id": "36ewdQ_J_tNK"
      },
      "execution_count": null,
      "outputs": []
    },
    {
      "cell_type": "markdown",
      "source": [
        "### Fine-tuning\n",
        "\n",
        "Values have been set through iterative manual experimentation. Only modify these if you know what you're doing!"
      ],
      "metadata": {
        "id": "kCGFtnZLANOR"
      }
    },
    {
      "cell_type": "code",
      "source": [
        "# A single image is generated for zoom 0..HI_RES_MIN_ZOOM-1.\n",
        "HI_RES_MIN_ZOOM = 8\n",
        "\n",
        "# The hi-res images cover zooms HI_RES_MIN_ZOOM..HI_RES_MAX_ZOOM.\n",
        "HI_RES_MAX_ZOOM = 14\n",
        "\n",
        "# S2 cloudless export constants:\n",
        "CLOUD_FILTER = 60\n",
        "CLD_PRB_THRESH = 40\n",
        "NIR_DRK_THRESH = 0.15\n",
        "CLD_PRJ_DIST = 2\n",
        "BUFFER = 100\n",
        "\n",
        "# Visualization params:\n",
        "S2_VIS_PARAMS = {'bands': ['B4', 'B3', 'B2'], 'min': 0, 'max': 2000, 'gamma': 1.2}\n",
        "HILLSHADE_VIS_PARAMS = {'min': 0, 'max': 160}\n",
        "# Ooacity ranges for low and high illumination regions.\n",
        "LO_MIN = 0\n",
        "LO_MAX = 170\n",
        "HI_MIN = 210\n",
        "HI_MAX = 255\n",
        "# Value range to stretch opacity [1,0].\n",
        "LO_OPAC_MIN = -200\n",
        "LO_OPAC_MAX = 170\n",
        "HI_OPAC_MIN = 210\n",
        "HI_OPAC_MAX = 700\n",
        "LO_VIS = {'min': 0, 'max': 1, 'palette': ['000000']}\n",
        "HI_VIS = {'min': 0, 'max': 1, 'palette': ['FFFFFF']}"
      ],
      "metadata": {
        "id": "yKDFPLGRO1Bx",
        "colab": {
          "base_uri": "https://localhost:8080/"
        },
        "outputId": "e0ef5873-654e-483e-9b46-2a5b375637ef"
      },
      "execution_count": 4,
      "outputs": [
        {
          "output_type": "stream",
          "name": "stdout",
          "text": [
            "Hi res images: 16,384 x 16,384 (268,435,456 pixels)\n",
            "Lo res image:  32,768 x 32,768 (1,073,741,824 pixels)\n"
          ]
        }
      ]
    },
    {
      "cell_type": "markdown",
      "source": [
        "### Debug output\n",
        "\n",
        "Debug info based on the above constants."
      ],
      "metadata": {
        "id": "UWkzDi-bAh9z"
      }
    },
    {
      "cell_type": "code",
      "source": [
        "# Compute resolution of images\n",
        "\n",
        "hi_res_dim = 256 * pow(2, HI_RES_MAX_ZOOM - HI_RES_MIN_ZOOM)\n",
        "hi_res_pixels = hi_res_dim * hi_res_dim\n",
        "lo_res_dim = 256 * pow(2, HI_RES_MIN_ZOOM - 1)\n",
        "lo_res_pixels = lo_res_dim * lo_res_dim\n",
        "\n",
        "print(f\"Hi res images: {hi_res_dim:,} x {hi_res_dim:,} ({hi_res_pixels:,} pixels)\")\n",
        "print(f\"Lo res image:  {lo_res_dim:,} x {lo_res_dim:,} ({lo_res_pixels:,} pixels)\")"
      ],
      "metadata": {
        "colab": {
          "base_uri": "https://localhost:8080/"
        },
        "id": "j6j27DkUApSX",
        "outputId": "d69ad329-0b34-4729-dbf2-7d6bba4a629f"
      },
      "execution_count": 26,
      "outputs": [
        {
          "output_type": "stream",
          "name": "stdout",
          "text": [
            "Hi res images: 16,384 x 16,384 (268,435,456 pixels)\n",
            "Lo res image:  32,768 x 32,768 (1,073,741,824 pixels)\n"
          ]
        }
      ]
    },
    {
      "cell_type": "markdown",
      "source": [
        "## Initialization and setup"
      ],
      "metadata": {
        "id": "vy9b4lTVCDxm"
      }
    },
    {
      "cell_type": "markdown",
      "source": [
        "### Install dependencies"
      ],
      "metadata": {
        "id": "iBNyIgVV5hW_"
      }
    },
    {
      "cell_type": "code",
      "source": [
        "!pip install mercantile"
      ],
      "metadata": {
        "colab": {
          "base_uri": "https://localhost:8080/"
        },
        "id": "muSs8jovkjm_",
        "outputId": "f7401f99-e7a7-4bb8-ed80-f65031690101"
      },
      "execution_count": 2,
      "outputs": [
        {
          "output_type": "stream",
          "name": "stdout",
          "text": [
            "Collecting mercantile\n",
            "  Downloading mercantile-1.2.1-py3-none-any.whl (14 kB)\n",
            "Requirement already satisfied: click>=3.0 in /usr/local/lib/python3.10/dist-packages (from mercantile) (8.1.7)\n",
            "Installing collected packages: mercantile\n",
            "Successfully installed mercantile-1.2.1\n"
          ]
        }
      ]
    },
    {
      "cell_type": "markdown",
      "source": [
        "### Do the sign-in boogie"
      ],
      "metadata": {
        "id": "2IaH6MAalfir"
      }
    },
    {
      "cell_type": "code",
      "source": [
        "import ee\n",
        "ee.Authenticate()\n",
        "ee.Initialize(project=CLOUD_PROJECT)"
      ],
      "metadata": {
        "id": "tZ75jyTNWVZ0"
      },
      "execution_count": 5,
      "outputs": []
    },
    {
      "cell_type": "markdown",
      "source": [
        "### Define Folium map utils\n",
        "\n",
        "Used to preview results on a map."
      ],
      "metadata": {
        "id": "_cOGnnkgSiB0"
      }
    },
    {
      "cell_type": "code",
      "source": [
        "import folium\n",
        "\n",
        "def add_ee_feature_collection(self, ee_feature_collection, vis_params, name):\n",
        "  map_id_dict = ee.FeatureCollection(ee_feature_collection).getMapId(vis_params)\n",
        "  folium.raster_layers.TileLayer(\n",
        "      tiles=map_id_dict['tile_fetcher'].url_format,\n",
        "      attr='Map Data &copy; <a href=\"https://earthengine.google.com/\">Google Earth Engine</a>',\n",
        "      name=name,\n",
        "      overlay=True,\n",
        "      control=True).add_to(self)\n",
        "\n",
        "\n",
        "# Define a method for displaying Earth Engine image tiles to a folium map.\n",
        "def add_ee_image(self, ee_image_object, vis_params, name, show=True, opacity=1, min_zoom=0):\n",
        "    map_id_dict = ee.Image(ee_image_object).getMapId(vis_params)\n",
        "    folium.raster_layers.TileLayer(\n",
        "        tiles=map_id_dict['tile_fetcher'].url_format,\n",
        "        attr='Map Data &copy; <a href=\"https://earthengine.google.com/\">Google Earth Engine</a>',\n",
        "        name=name,\n",
        "        show=show,\n",
        "        opacity=opacity,\n",
        "        min_zoom=min_zoom,\n",
        "        overlay=True,\n",
        "        control=True\n",
        "        ).add_to(self)\n",
        "\n",
        "# Add the Earth Engine layer method to folium.\n",
        "folium.Map.add_ee_image = add_ee_image\n",
        "\n",
        "# Add an Earth Engine layer drawing method to folium.\n",
        "folium.Map.add_ee_feature_collection = add_ee_feature_collection"
      ],
      "metadata": {
        "id": "88KWk9TwSjll"
      },
      "execution_count": 20,
      "outputs": []
    },
    {
      "cell_type": "markdown",
      "source": [
        "### Determine extents of tile sets intersecting AOI"
      ],
      "metadata": {
        "id": "FEzietpN_5Tq"
      }
    },
    {
      "cell_type": "code",
      "source": [
        "import mercantile\n",
        "\n",
        "def ee_feature_bounds(feature):\n",
        "  \"\"\"Synchronously get bounds of EE feature, returning as LngLatBbox.\n",
        "  \"\"\"\n",
        "  coords = feature.bounds().geometry().coordinates().getInfo()[0]\n",
        "  [west, south], _, [east, north], _, _ = coords\n",
        "  return mercantile.LngLatBbox(west, south, east, north)\n",
        "\n",
        "def tile_to_ee_bbox(tile):\n",
        "  # Note: This can also be done in Earth Engine, but Mercantile provides a\n",
        "  # more Pythonic API, including model objects like Bounds.\n",
        "  bounds = mercantile.bounds(tile)\n",
        "  return ee.Geometry.BBox(bounds.west, bounds.south, bounds.east, bounds.north)\n",
        "\n",
        "def tile_to_ee_feature(tile):\n",
        "  return ee.Feature(tile_to_ee_bbox(tile), {'x': tile.x, 'y': tile.y, 'z': tile.z})\n",
        "\n",
        "def ee_feature_to_tile(ee_feature):\n",
        "  p = ee_feature['properties']\n",
        "  return mercantile.Tile(p['x'], p['y'], p['z'])\n",
        "\n",
        "def filter_tiles_by_bounds(tiles, ee_geometry):\n",
        "  \"\"\"Synchronously filter Tiles by EE geometry.\n",
        "  \"\"\"\n",
        "  tiles_fc = ee.FeatureCollection([tile_to_ee_feature(tile) for tile in tiles])\n",
        "  filtered_fc = tiles_fc.filterBounds(ee_geometry)\n",
        "  features = filtered_fc.getInfo()['features']\n",
        "  return [ee_feature_to_tile(f) for f in features]\n",
        "\n",
        "# Fetch the AOI and bounds.\n",
        "gaul0 = ee.FeatureCollection(\"FAO/GAUL/2015/level0\")\n",
        "aoi = ee.Feature(gaul0.filter(ee.Filter.eq('ADM0_NAME', COUNTRY_NAME)).first())\n",
        "aoi_bounds = ee_feature_bounds(aoi)\n",
        "\n",
        "# Bounding tiles of all possible tilesets for aoi_bounds.\n",
        "aoi_bounds_tileset_extents = mercantile.tiles(\n",
        "    aoi_bounds.west,\n",
        "    aoi_bounds.south,\n",
        "    aoi_bounds.east,\n",
        "    aoi_bounds.north,\n",
        "    [HI_RES_MIN_ZOOM])\n",
        "\n",
        "# Bounding tiles only for tilesets that overlap the AOI.\n",
        "aoi_tileset_extents = filter_tiles_by_bounds(aoi_bounds_tileset_extents, aoi.geometry())\n",
        "\n",
        "# Display tileset extents on map.\n",
        "map = folium.Map(width=1024, height=600)\n",
        "\n",
        "# Show tile extents on map.\n",
        "for tile in aoi_tileset_extents:\n",
        "  [west, south, east, north] = mercantile.bounds(tile)\n",
        "  folium.Rectangle(bounds = [(north, west), (south, east)]).add_to(map)\n",
        "\n",
        "map.fit_bounds([[aoi_bounds.south, aoi_bounds.west], [aoi_bounds.north, aoi_bounds.east]], padding=(6, 6))\n",
        "\n",
        "print(f\"One GeoTIFF will be exported for each tile at zoom {HI_RES_MAX_ZOOM}, plus one for the entire world at zoom {HI_RES_MAX_ZOOM-1}:\")\n",
        "print()\n",
        "display(map)"
      ],
      "metadata": {
        "colab": {
          "base_uri": "https://localhost:8080/",
          "height": 805
        },
        "id": "LVN1wqCZxakR",
        "outputId": "b9d50490-380a-4fe5-e725-300232192dcb"
      },
      "execution_count": 21,
      "outputs": [
        {
          "output_type": "stream",
          "name": "stdout",
          "text": [
            "One GeoTIFF will be exported for each tile at zoom 14, plus one for the entire world at zoom 13:\n",
            "\n"
          ]
        },
        {
          "output_type": "display_data",
          "data": {
            "text/plain": [
              "<folium.folium.Map at 0x78bc1b3ed840>"
            ],
            "text/html": [
              "<div style=\"width:100%;\"><div style=\"position:relative;width:100%;height:0;padding-bottom:60%;\"><span style=\"color:#565656\">Make this Notebook Trusted to load map: File -> Trust Notebook</span><iframe srcdoc=\"&lt;!DOCTYPE html&gt;\n",
              "&lt;html&gt;\n",
              "&lt;head&gt;\n",
              "    \n",
              "    &lt;meta http-equiv=&quot;content-type&quot; content=&quot;text/html; charset=UTF-8&quot; /&gt;\n",
              "    \n",
              "        &lt;script&gt;\n",
              "            L_NO_TOUCH = false;\n",
              "            L_DISABLE_3D = false;\n",
              "        &lt;/script&gt;\n",
              "    \n",
              "    &lt;style&gt;html, body {width: 100%;height: 100%;margin: 0;padding: 0;}&lt;/style&gt;\n",
              "    &lt;style&gt;#map {position:absolute;top:0;bottom:0;right:0;left:0;}&lt;/style&gt;\n",
              "    &lt;script src=&quot;https://cdn.jsdelivr.net/npm/leaflet@1.9.3/dist/leaflet.js&quot;&gt;&lt;/script&gt;\n",
              "    &lt;script src=&quot;https://code.jquery.com/jquery-1.12.4.min.js&quot;&gt;&lt;/script&gt;\n",
              "    &lt;script src=&quot;https://cdn.jsdelivr.net/npm/bootstrap@5.2.2/dist/js/bootstrap.bundle.min.js&quot;&gt;&lt;/script&gt;\n",
              "    &lt;script src=&quot;https://cdnjs.cloudflare.com/ajax/libs/Leaflet.awesome-markers/2.0.2/leaflet.awesome-markers.js&quot;&gt;&lt;/script&gt;\n",
              "    &lt;link rel=&quot;stylesheet&quot; href=&quot;https://cdn.jsdelivr.net/npm/leaflet@1.9.3/dist/leaflet.css&quot;/&gt;\n",
              "    &lt;link rel=&quot;stylesheet&quot; href=&quot;https://cdn.jsdelivr.net/npm/bootstrap@5.2.2/dist/css/bootstrap.min.css&quot;/&gt;\n",
              "    &lt;link rel=&quot;stylesheet&quot; href=&quot;https://netdna.bootstrapcdn.com/bootstrap/3.0.0/css/bootstrap.min.css&quot;/&gt;\n",
              "    &lt;link rel=&quot;stylesheet&quot; href=&quot;https://cdn.jsdelivr.net/npm/@fortawesome/fontawesome-free@6.2.0/css/all.min.css&quot;/&gt;\n",
              "    &lt;link rel=&quot;stylesheet&quot; href=&quot;https://cdnjs.cloudflare.com/ajax/libs/Leaflet.awesome-markers/2.0.2/leaflet.awesome-markers.css&quot;/&gt;\n",
              "    &lt;link rel=&quot;stylesheet&quot; href=&quot;https://cdn.jsdelivr.net/gh/python-visualization/folium/folium/templates/leaflet.awesome.rotate.min.css&quot;/&gt;\n",
              "    \n",
              "            &lt;meta name=&quot;viewport&quot; content=&quot;width=device-width,\n",
              "                initial-scale=1.0, maximum-scale=1.0, user-scalable=no&quot; /&gt;\n",
              "            &lt;style&gt;\n",
              "                #map_6d976fe8cc264582caa72a804ee86528 {\n",
              "                    position: relative;\n",
              "                    width: 1024.0px;\n",
              "                    height: 600.0px;\n",
              "                    left: 0.0%;\n",
              "                    top: 0.0%;\n",
              "                }\n",
              "                .leaflet-container { font-size: 1rem; }\n",
              "            &lt;/style&gt;\n",
              "        \n",
              "&lt;/head&gt;\n",
              "&lt;body&gt;\n",
              "    \n",
              "    \n",
              "            &lt;div class=&quot;folium-map&quot; id=&quot;map_6d976fe8cc264582caa72a804ee86528&quot; &gt;&lt;/div&gt;\n",
              "        \n",
              "&lt;/body&gt;\n",
              "&lt;script&gt;\n",
              "    \n",
              "    \n",
              "            var map_6d976fe8cc264582caa72a804ee86528 = L.map(\n",
              "                &quot;map_6d976fe8cc264582caa72a804ee86528&quot;,\n",
              "                {\n",
              "                    center: [0, 0],\n",
              "                    crs: L.CRS.EPSG3857,\n",
              "                    zoom: 1,\n",
              "                    zoomControl: true,\n",
              "                    preferCanvas: false,\n",
              "                }\n",
              "            );\n",
              "\n",
              "            \n",
              "\n",
              "        \n",
              "    \n",
              "            var tile_layer_8b69d3569829ff800b13234fb1c2e52c = L.tileLayer(\n",
              "                &quot;https://{s}.tile.openstreetmap.org/{z}/{x}/{y}.png&quot;,\n",
              "                {&quot;attribution&quot;: &quot;Data by \\u0026copy; \\u003ca target=\\&quot;_blank\\&quot; href=\\&quot;http://openstreetmap.org\\&quot;\\u003eOpenStreetMap\\u003c/a\\u003e, under \\u003ca target=\\&quot;_blank\\&quot; href=\\&quot;http://www.openstreetmap.org/copyright\\&quot;\\u003eODbL\\u003c/a\\u003e.&quot;, &quot;detectRetina&quot;: false, &quot;maxNativeZoom&quot;: 18, &quot;maxZoom&quot;: 18, &quot;minZoom&quot;: 0, &quot;noWrap&quot;: false, &quot;opacity&quot;: 1, &quot;subdomains&quot;: &quot;abc&quot;, &quot;tms&quot;: false}\n",
              "            ).addTo(map_6d976fe8cc264582caa72a804ee86528);\n",
              "        \n",
              "    \n",
              "            var rectangle_5b25c15913c35fa72b23adeba8ad8ec5 = L.rectangle(\n",
              "                [[11.178401873711781, -4.21875], [9.795677582829734, -2.8125]],\n",
              "                {&quot;bubblingMouseEvents&quot;: true, &quot;color&quot;: &quot;#3388ff&quot;, &quot;dashArray&quot;: null, &quot;dashOffset&quot;: null, &quot;fill&quot;: false, &quot;fillColor&quot;: &quot;#3388ff&quot;, &quot;fillOpacity&quot;: 0.2, &quot;fillRule&quot;: &quot;evenodd&quot;, &quot;lineCap&quot;: &quot;round&quot;, &quot;lineJoin&quot;: &quot;round&quot;, &quot;noClip&quot;: false, &quot;opacity&quot;: 1.0, &quot;smoothFactor&quot;: 1.0, &quot;stroke&quot;: true, &quot;weight&quot;: 3}\n",
              "            ).addTo(map_6d976fe8cc264582caa72a804ee86528);\n",
              "        \n",
              "    \n",
              "            var rectangle_517a6beaacf58a909b3849bcf3977625 = L.rectangle(\n",
              "                [[8.407168163601074, -4.21875], [7.01366792756663, -2.8125]],\n",
              "                {&quot;bubblingMouseEvents&quot;: true, &quot;color&quot;: &quot;#3388ff&quot;, &quot;dashArray&quot;: null, &quot;dashOffset&quot;: null, &quot;fill&quot;: false, &quot;fillColor&quot;: &quot;#3388ff&quot;, &quot;fillOpacity&quot;: 0.2, &quot;fillRule&quot;: &quot;evenodd&quot;, &quot;lineCap&quot;: &quot;round&quot;, &quot;lineJoin&quot;: &quot;round&quot;, &quot;noClip&quot;: false, &quot;opacity&quot;: 1.0, &quot;smoothFactor&quot;: 1.0, &quot;stroke&quot;: true, &quot;weight&quot;: 3}\n",
              "            ).addTo(map_6d976fe8cc264582caa72a804ee86528);\n",
              "        \n",
              "    \n",
              "            var rectangle_7b92848fc57533b0ccbf993b250270b4 = L.rectangle(\n",
              "                [[7.01366792756663, -4.21875], [5.615985819155334, -2.8125]],\n",
              "                {&quot;bubblingMouseEvents&quot;: true, &quot;color&quot;: &quot;#3388ff&quot;, &quot;dashArray&quot;: null, &quot;dashOffset&quot;: null, &quot;fill&quot;: false, &quot;fillColor&quot;: &quot;#3388ff&quot;, &quot;fillOpacity&quot;: 0.2, &quot;fillRule&quot;: &quot;evenodd&quot;, &quot;lineCap&quot;: &quot;round&quot;, &quot;lineJoin&quot;: &quot;round&quot;, &quot;noClip&quot;: false, &quot;opacity&quot;: 1.0, &quot;smoothFactor&quot;: 1.0, &quot;stroke&quot;: true, &quot;weight&quot;: 3}\n",
              "            ).addTo(map_6d976fe8cc264582caa72a804ee86528);\n",
              "        \n",
              "    \n",
              "            var rectangle_f9103057d34086458b6ed5cbaf33f074 = L.rectangle(\n",
              "                [[5.615985819155334, -4.21875], [4.214943141390642, -2.8125]],\n",
              "                {&quot;bubblingMouseEvents&quot;: true, &quot;color&quot;: &quot;#3388ff&quot;, &quot;dashArray&quot;: null, &quot;dashOffset&quot;: null, &quot;fill&quot;: false, &quot;fillColor&quot;: &quot;#3388ff&quot;, &quot;fillOpacity&quot;: 0.2, &quot;fillRule&quot;: &quot;evenodd&quot;, &quot;lineCap&quot;: &quot;round&quot;, &quot;lineJoin&quot;: &quot;round&quot;, &quot;noClip&quot;: false, &quot;opacity&quot;: 1.0, &quot;smoothFactor&quot;: 1.0, &quot;stroke&quot;: true, &quot;weight&quot;: 3}\n",
              "            ).addTo(map_6d976fe8cc264582caa72a804ee86528);\n",
              "        \n",
              "    \n",
              "            var rectangle_49e7568de79f42279dfb5fbe265e340c = L.rectangle(\n",
              "                [[11.178401873711781, -2.8125], [9.795677582829734, -1.40625]],\n",
              "                {&quot;bubblingMouseEvents&quot;: true, &quot;color&quot;: &quot;#3388ff&quot;, &quot;dashArray&quot;: null, &quot;dashOffset&quot;: null, &quot;fill&quot;: false, &quot;fillColor&quot;: &quot;#3388ff&quot;, &quot;fillOpacity&quot;: 0.2, &quot;fillRule&quot;: &quot;evenodd&quot;, &quot;lineCap&quot;: &quot;round&quot;, &quot;lineJoin&quot;: &quot;round&quot;, &quot;noClip&quot;: false, &quot;opacity&quot;: 1.0, &quot;smoothFactor&quot;: 1.0, &quot;stroke&quot;: true, &quot;weight&quot;: 3}\n",
              "            ).addTo(map_6d976fe8cc264582caa72a804ee86528);\n",
              "        \n",
              "    \n",
              "            var rectangle_c70976de13ca1b3eeb742034336d8a75 = L.rectangle(\n",
              "                [[9.795677582829734, -2.8125], [8.407168163601074, -1.40625]],\n",
              "                {&quot;bubblingMouseEvents&quot;: true, &quot;color&quot;: &quot;#3388ff&quot;, &quot;dashArray&quot;: null, &quot;dashOffset&quot;: null, &quot;fill&quot;: false, &quot;fillColor&quot;: &quot;#3388ff&quot;, &quot;fillOpacity&quot;: 0.2, &quot;fillRule&quot;: &quot;evenodd&quot;, &quot;lineCap&quot;: &quot;round&quot;, &quot;lineJoin&quot;: &quot;round&quot;, &quot;noClip&quot;: false, &quot;opacity&quot;: 1.0, &quot;smoothFactor&quot;: 1.0, &quot;stroke&quot;: true, &quot;weight&quot;: 3}\n",
              "            ).addTo(map_6d976fe8cc264582caa72a804ee86528);\n",
              "        \n",
              "    \n",
              "            var rectangle_3d88ef2c45c2e68877dcc537dc7ed064 = L.rectangle(\n",
              "                [[8.407168163601074, -2.8125], [7.01366792756663, -1.40625]],\n",
              "                {&quot;bubblingMouseEvents&quot;: true, &quot;color&quot;: &quot;#3388ff&quot;, &quot;dashArray&quot;: null, &quot;dashOffset&quot;: null, &quot;fill&quot;: false, &quot;fillColor&quot;: &quot;#3388ff&quot;, &quot;fillOpacity&quot;: 0.2, &quot;fillRule&quot;: &quot;evenodd&quot;, &quot;lineCap&quot;: &quot;round&quot;, &quot;lineJoin&quot;: &quot;round&quot;, &quot;noClip&quot;: false, &quot;opacity&quot;: 1.0, &quot;smoothFactor&quot;: 1.0, &quot;stroke&quot;: true, &quot;weight&quot;: 3}\n",
              "            ).addTo(map_6d976fe8cc264582caa72a804ee86528);\n",
              "        \n",
              "    \n",
              "            var rectangle_4a386c71a66b26959aa5d8551b4cd5f6 = L.rectangle(\n",
              "                [[7.01366792756663, -2.8125], [5.615985819155334, -1.40625]],\n",
              "                {&quot;bubblingMouseEvents&quot;: true, &quot;color&quot;: &quot;#3388ff&quot;, &quot;dashArray&quot;: null, &quot;dashOffset&quot;: null, &quot;fill&quot;: false, &quot;fillColor&quot;: &quot;#3388ff&quot;, &quot;fillOpacity&quot;: 0.2, &quot;fillRule&quot;: &quot;evenodd&quot;, &quot;lineCap&quot;: &quot;round&quot;, &quot;lineJoin&quot;: &quot;round&quot;, &quot;noClip&quot;: false, &quot;opacity&quot;: 1.0, &quot;smoothFactor&quot;: 1.0, &quot;stroke&quot;: true, &quot;weight&quot;: 3}\n",
              "            ).addTo(map_6d976fe8cc264582caa72a804ee86528);\n",
              "        \n",
              "    \n",
              "            var rectangle_92220d8d5dea42b2b488988f77b45210 = L.rectangle(\n",
              "                [[5.615985819155334, -2.8125], [4.214943141390642, -1.40625]],\n",
              "                {&quot;bubblingMouseEvents&quot;: true, &quot;color&quot;: &quot;#3388ff&quot;, &quot;dashArray&quot;: null, &quot;dashOffset&quot;: null, &quot;fill&quot;: false, &quot;fillColor&quot;: &quot;#3388ff&quot;, &quot;fillOpacity&quot;: 0.2, &quot;fillRule&quot;: &quot;evenodd&quot;, &quot;lineCap&quot;: &quot;round&quot;, &quot;lineJoin&quot;: &quot;round&quot;, &quot;noClip&quot;: false, &quot;opacity&quot;: 1.0, &quot;smoothFactor&quot;: 1.0, &quot;stroke&quot;: true, &quot;weight&quot;: 3}\n",
              "            ).addTo(map_6d976fe8cc264582caa72a804ee86528);\n",
              "        \n",
              "    \n",
              "            var rectangle_366497dbb5f289f517bde70b674853b8 = L.rectangle(\n",
              "                [[11.178401873711781, -1.40625], [9.795677582829734, 0.0]],\n",
              "                {&quot;bubblingMouseEvents&quot;: true, &quot;color&quot;: &quot;#3388ff&quot;, &quot;dashArray&quot;: null, &quot;dashOffset&quot;: null, &quot;fill&quot;: false, &quot;fillColor&quot;: &quot;#3388ff&quot;, &quot;fillOpacity&quot;: 0.2, &quot;fillRule&quot;: &quot;evenodd&quot;, &quot;lineCap&quot;: &quot;round&quot;, &quot;lineJoin&quot;: &quot;round&quot;, &quot;noClip&quot;: false, &quot;opacity&quot;: 1.0, &quot;smoothFactor&quot;: 1.0, &quot;stroke&quot;: true, &quot;weight&quot;: 3}\n",
              "            ).addTo(map_6d976fe8cc264582caa72a804ee86528);\n",
              "        \n",
              "    \n",
              "            var rectangle_b4644f65343ee7164db79e1a535d2281 = L.rectangle(\n",
              "                [[9.795677582829734, -1.40625], [8.407168163601074, 0.0]],\n",
              "                {&quot;bubblingMouseEvents&quot;: true, &quot;color&quot;: &quot;#3388ff&quot;, &quot;dashArray&quot;: null, &quot;dashOffset&quot;: null, &quot;fill&quot;: false, &quot;fillColor&quot;: &quot;#3388ff&quot;, &quot;fillOpacity&quot;: 0.2, &quot;fillRule&quot;: &quot;evenodd&quot;, &quot;lineCap&quot;: &quot;round&quot;, &quot;lineJoin&quot;: &quot;round&quot;, &quot;noClip&quot;: false, &quot;opacity&quot;: 1.0, &quot;smoothFactor&quot;: 1.0, &quot;stroke&quot;: true, &quot;weight&quot;: 3}\n",
              "            ).addTo(map_6d976fe8cc264582caa72a804ee86528);\n",
              "        \n",
              "    \n",
              "            var rectangle_1931b65567c4e76ad710bd41f2d499d4 = L.rectangle(\n",
              "                [[8.407168163601074, -1.40625], [7.01366792756663, 0.0]],\n",
              "                {&quot;bubblingMouseEvents&quot;: true, &quot;color&quot;: &quot;#3388ff&quot;, &quot;dashArray&quot;: null, &quot;dashOffset&quot;: null, &quot;fill&quot;: false, &quot;fillColor&quot;: &quot;#3388ff&quot;, &quot;fillOpacity&quot;: 0.2, &quot;fillRule&quot;: &quot;evenodd&quot;, &quot;lineCap&quot;: &quot;round&quot;, &quot;lineJoin&quot;: &quot;round&quot;, &quot;noClip&quot;: false, &quot;opacity&quot;: 1.0, &quot;smoothFactor&quot;: 1.0, &quot;stroke&quot;: true, &quot;weight&quot;: 3}\n",
              "            ).addTo(map_6d976fe8cc264582caa72a804ee86528);\n",
              "        \n",
              "    \n",
              "            var rectangle_10bb0218766c39f3377636e1a31854d1 = L.rectangle(\n",
              "                [[7.01366792756663, -1.40625], [5.615985819155334, 0.0]],\n",
              "                {&quot;bubblingMouseEvents&quot;: true, &quot;color&quot;: &quot;#3388ff&quot;, &quot;dashArray&quot;: null, &quot;dashOffset&quot;: null, &quot;fill&quot;: false, &quot;fillColor&quot;: &quot;#3388ff&quot;, &quot;fillOpacity&quot;: 0.2, &quot;fillRule&quot;: &quot;evenodd&quot;, &quot;lineCap&quot;: &quot;round&quot;, &quot;lineJoin&quot;: &quot;round&quot;, &quot;noClip&quot;: false, &quot;opacity&quot;: 1.0, &quot;smoothFactor&quot;: 1.0, &quot;stroke&quot;: true, &quot;weight&quot;: 3}\n",
              "            ).addTo(map_6d976fe8cc264582caa72a804ee86528);\n",
              "        \n",
              "    \n",
              "            var rectangle_a1d6161f03d0de6a9b291f7ad72b3536 = L.rectangle(\n",
              "                [[5.615985819155334, -1.40625], [4.214943141390642, 0.0]],\n",
              "                {&quot;bubblingMouseEvents&quot;: true, &quot;color&quot;: &quot;#3388ff&quot;, &quot;dashArray&quot;: null, &quot;dashOffset&quot;: null, &quot;fill&quot;: false, &quot;fillColor&quot;: &quot;#3388ff&quot;, &quot;fillOpacity&quot;: 0.2, &quot;fillRule&quot;: &quot;evenodd&quot;, &quot;lineCap&quot;: &quot;round&quot;, &quot;lineJoin&quot;: &quot;round&quot;, &quot;noClip&quot;: false, &quot;opacity&quot;: 1.0, &quot;smoothFactor&quot;: 1.0, &quot;stroke&quot;: true, &quot;weight&quot;: 3}\n",
              "            ).addTo(map_6d976fe8cc264582caa72a804ee86528);\n",
              "        \n",
              "    \n",
              "            var rectangle_948d37a5b4c195949ae9246a2c99c9a2 = L.rectangle(\n",
              "                [[11.178401873711781, 0.0], [9.795677582829734, 1.40625]],\n",
              "                {&quot;bubblingMouseEvents&quot;: true, &quot;color&quot;: &quot;#3388ff&quot;, &quot;dashArray&quot;: null, &quot;dashOffset&quot;: null, &quot;fill&quot;: false, &quot;fillColor&quot;: &quot;#3388ff&quot;, &quot;fillOpacity&quot;: 0.2, &quot;fillRule&quot;: &quot;evenodd&quot;, &quot;lineCap&quot;: &quot;round&quot;, &quot;lineJoin&quot;: &quot;round&quot;, &quot;noClip&quot;: false, &quot;opacity&quot;: 1.0, &quot;smoothFactor&quot;: 1.0, &quot;stroke&quot;: true, &quot;weight&quot;: 3}\n",
              "            ).addTo(map_6d976fe8cc264582caa72a804ee86528);\n",
              "        \n",
              "    \n",
              "            var rectangle_a566ab045ce262b49048acea6b602405 = L.rectangle(\n",
              "                [[9.795677582829734, 0.0], [8.407168163601074, 1.40625]],\n",
              "                {&quot;bubblingMouseEvents&quot;: true, &quot;color&quot;: &quot;#3388ff&quot;, &quot;dashArray&quot;: null, &quot;dashOffset&quot;: null, &quot;fill&quot;: false, &quot;fillColor&quot;: &quot;#3388ff&quot;, &quot;fillOpacity&quot;: 0.2, &quot;fillRule&quot;: &quot;evenodd&quot;, &quot;lineCap&quot;: &quot;round&quot;, &quot;lineJoin&quot;: &quot;round&quot;, &quot;noClip&quot;: false, &quot;opacity&quot;: 1.0, &quot;smoothFactor&quot;: 1.0, &quot;stroke&quot;: true, &quot;weight&quot;: 3}\n",
              "            ).addTo(map_6d976fe8cc264582caa72a804ee86528);\n",
              "        \n",
              "    \n",
              "            var rectangle_779749d860f42362ab8b4ff2f9e2ac35 = L.rectangle(\n",
              "                [[8.407168163601074, 0.0], [7.01366792756663, 1.40625]],\n",
              "                {&quot;bubblingMouseEvents&quot;: true, &quot;color&quot;: &quot;#3388ff&quot;, &quot;dashArray&quot;: null, &quot;dashOffset&quot;: null, &quot;fill&quot;: false, &quot;fillColor&quot;: &quot;#3388ff&quot;, &quot;fillOpacity&quot;: 0.2, &quot;fillRule&quot;: &quot;evenodd&quot;, &quot;lineCap&quot;: &quot;round&quot;, &quot;lineJoin&quot;: &quot;round&quot;, &quot;noClip&quot;: false, &quot;opacity&quot;: 1.0, &quot;smoothFactor&quot;: 1.0, &quot;stroke&quot;: true, &quot;weight&quot;: 3}\n",
              "            ).addTo(map_6d976fe8cc264582caa72a804ee86528);\n",
              "        \n",
              "    \n",
              "            var rectangle_009f1985cfeeab41800507d6c4d29116 = L.rectangle(\n",
              "                [[7.01366792756663, 0.0], [5.615985819155334, 1.40625]],\n",
              "                {&quot;bubblingMouseEvents&quot;: true, &quot;color&quot;: &quot;#3388ff&quot;, &quot;dashArray&quot;: null, &quot;dashOffset&quot;: null, &quot;fill&quot;: false, &quot;fillColor&quot;: &quot;#3388ff&quot;, &quot;fillOpacity&quot;: 0.2, &quot;fillRule&quot;: &quot;evenodd&quot;, &quot;lineCap&quot;: &quot;round&quot;, &quot;lineJoin&quot;: &quot;round&quot;, &quot;noClip&quot;: false, &quot;opacity&quot;: 1.0, &quot;smoothFactor&quot;: 1.0, &quot;stroke&quot;: true, &quot;weight&quot;: 3}\n",
              "            ).addTo(map_6d976fe8cc264582caa72a804ee86528);\n",
              "        \n",
              "    \n",
              "            map_6d976fe8cc264582caa72a804ee86528.fitBounds(\n",
              "                [[4.739342163910913, -3.255652117831363], [11.165160939128013, 1.200318633161377]],\n",
              "                {&quot;padding&quot;: [6, 6]}\n",
              "            );\n",
              "        \n",
              "&lt;/script&gt;\n",
              "&lt;/html&gt;\" style=\"position:absolute;width:100%;height:100%;left:0;top:0;border:none !important;\" allowfullscreen webkitallowfullscreen mozallowfullscreen></iframe></div></div>"
            ]
          },
          "metadata": {}
        }
      ]
    },
    {
      "cell_type": "markdown",
      "source": [
        "### Define image source\n",
        "\n",
        "Build cloudless mosaic using publicly available 10m Sentinel-2 imagery."
      ],
      "metadata": {
        "id": "Mu2j1U51Wae-"
      }
    },
    {
      "cell_type": "code",
      "source": [
        "# Based on https://developers.google.com/earth-engine/tutorials/community/sentinel-2-s2cloudless\n",
        "def get_s2_sr_cld_col(aoi, start_date, end_date):\n",
        "    # Import and filter S2 SR.\n",
        "    s2_sr_col = (ee.ImageCollection('COPERNICUS/S2_SR_HARMONIZED')\n",
        "        .filterBounds(aoi)\n",
        "        .filterDate(start_date, end_date)\n",
        "        .filter(ee.Filter.lte('CLOUDY_PIXEL_PERCENTAGE', CLOUD_FILTER)))\n",
        "\n",
        "    # Import and filter s2cloudless.\n",
        "    s2_cloudless_col = (ee.ImageCollection('COPERNICUS/S2_CLOUD_PROBABILITY')\n",
        "        .filterBounds(aoi)\n",
        "        .filterDate(start_date, end_date))\n",
        "\n",
        "    # Join the filtered s2cloudless collection to the SR collection by the 'system:index' property.\n",
        "    return ee.ImageCollection(ee.Join.saveFirst('s2cloudless').apply(**{\n",
        "        'primary': s2_sr_col,\n",
        "        'secondary': s2_cloudless_col,\n",
        "        'condition': ee.Filter.equals(**{\n",
        "            'leftField': 'system:index',\n",
        "            'rightField': 'system:index'\n",
        "        })\n",
        "    }))\n",
        "\n",
        "def add_cloud_bands(img):\n",
        "    # Get s2cloudless image, subset the probability band.\n",
        "    cld_prb = ee.Image(img.get('s2cloudless')).select('probability')\n",
        "\n",
        "    # Condition s2cloudless by the probability threshold value.\n",
        "    is_cloud = cld_prb.gt(CLD_PRB_THRESH).rename('clouds')\n",
        "\n",
        "    # Add the cloud probability layer and cloud mask as image bands.\n",
        "    return img.addBands(ee.Image([cld_prb, is_cloud]))\n",
        "\n",
        "def add_shadow_bands(img):\n",
        "    # Identify water pixels from the SCL band.\n",
        "    not_water = img.select('SCL').neq(6)\n",
        "\n",
        "    # Identify dark NIR pixels that are not water (potential cloud shadow pixels).\n",
        "    SR_BAND_SCALE = 1e4\n",
        "    dark_pixels = img.select('B8').lt(NIR_DRK_THRESH*SR_BAND_SCALE).multiply(not_water).rename('dark_pixels')\n",
        "\n",
        "    # Determine the direction to project cloud shadow from clouds (assumes UTM projection).\n",
        "    shadow_azimuth = ee.Number(90).subtract(ee.Number(img.get('MEAN_SOLAR_AZIMUTH_ANGLE')));\n",
        "\n",
        "    # Project shadows from clouds for the distance specified by the CLD_PRJ_DIST input.\n",
        "    cld_proj = (img.select('clouds').directionalDistanceTransform(shadow_azimuth, CLD_PRJ_DIST*10)\n",
        "        .reproject(**{'crs': img.select(0).projection(), 'scale': 100})\n",
        "        .select('distance')\n",
        "        .mask()\n",
        "        .rename('cloud_transform'))\n",
        "\n",
        "    # Identify the intersection of dark pixels with cloud shadow projection.\n",
        "    shadows = cld_proj.multiply(dark_pixels).rename('shadows')\n",
        "\n",
        "    # Add dark pixels, cloud projection, and identified shadows as image bands.\n",
        "    return img.addBands(ee.Image([dark_pixels, cld_proj, shadows]))\n",
        "\n",
        "def add_cld_shdw_mask(img):\n",
        "    # Add cloud component bands.\n",
        "    img_cloud = add_cloud_bands(img)\n",
        "\n",
        "    # Add cloud shadow component bands.\n",
        "    img_cloud_shadow = add_shadow_bands(img_cloud)\n",
        "\n",
        "    # Combine cloud and shadow mask, set cloud and shadow as value 1, else 0.\n",
        "    is_cld_shdw = img_cloud_shadow.select('clouds').add(img_cloud_shadow.select('shadows')).gt(0)\n",
        "\n",
        "    # Remove small cloud-shadow patches and dilate remaining pixels by BUFFER input.\n",
        "    # 20 m scale is for speed, and assumes clouds don't require 10 m precision.\n",
        "    is_cld_shdw = (is_cld_shdw.focalMin(2).focalMax(BUFFER*2/20)\n",
        "        .reproject(**{'crs': img.select([0]).projection(), 'scale': 20})\n",
        "        .rename('cloudmask'))\n",
        "\n",
        "    # Add the final cloud-shadow mask to the image.\n",
        "    return img_cloud_shadow.addBands(is_cld_shdw)\n",
        "\n",
        "def apply_cld_shdw_mask(img):\n",
        "    # Subset the cloudmask band and invert it so clouds/shadow are 0, else 1.\n",
        "    not_cld_shdw = img.select('cloudmask').Not()\n",
        "\n",
        "    # Subset reflectance bands and update their masks, return the result.\n",
        "    return img.select('B.*').updateMask(not_cld_shdw)\n",
        "\n",
        "####### Hillshade w/ variable transparency #######\n",
        "# Based on https://gis.stackexchange.com/questions/445241/hillshade-image-blend-that-is-not-washed-out-earth-engine\n",
        "def apply_hillshade(img):\n",
        "  exaggeration = 0.75\n",
        "  hillshade = ee.Terrain.hillshade(\n",
        "    input=ee.Image('NASA/NASADEM_HGT/001').select('elevation').multiply(exaggeration),\n",
        "    azimuth=150,\n",
        "    elevation=30\n",
        "  ).updateMask(img.select(0).mask())\n",
        "\n",
        "  # Create low and high illumination hillshade images with transparency\n",
        "  # gradient controlled by illumination; combine them and blend on top\n",
        "  # of the original image.\n",
        "  lo_clamped = hillshade.clamp(LO_MIN, LO_MAX)\n",
        "  lo_scaled = lo_clamped.unitScale(LO_OPAC_MIN, LO_OPAC_MAX)\n",
        "  lo = ee.Image(1).subtract(lo_scaled).selfMask().visualize(**LO_VIS)\n",
        "\n",
        "  hi_clamped = hillshade.clamp(HI_MIN, HI_MAX)\n",
        "  hi_scaled = hi_clamped.unitScale(HI_OPAC_MIN , HI_OPAC_MAX)\n",
        "  hi = hi_scaled.selfMask().visualize(**HI_VIS)\n",
        "\n",
        "  return img.blend(lo.blend(hi))\n",
        "\n",
        "# Build S2 mosaic.\n",
        "s2_sr_cld_col = get_s2_sr_cld_col(aoi.geometry(), START_DATE, END_DATE)\n",
        "s2_sr_median = s2_sr_cld_col.map(add_cld_shdw_mask).map(apply_cld_shdw_mask).median()\n",
        "image = apply_hillshade(s2_sr_median.visualize(**S2_VIS_PARAMS))\n",
        "\n",
        "# Preview imagery.\n",
        "map = folium.Map(width=1024, height=600, start_zoom=9)\n",
        "map.add_ee_image(image.clip(aoi), {}, 'Image export preview', show=True, opacity=1, min_zoom=9)\n",
        "map.fit_bounds([[aoi_bounds.south, aoi_bounds.west], [aoi_bounds.north, aoi_bounds.east]])\n",
        "\n",
        "print(\"Visualizing preview - this may take awhile. You may proceed with other steps without waiting.\")\n",
        "print()\n",
        "display(map)"
      ],
      "metadata": {
        "colab": {
          "base_uri": "https://localhost:8080/",
          "height": 805
        },
        "id": "zV6EZRM-WdAr",
        "outputId": "e09dba7f-8191-4963-90c4-9bc2a4638d74"
      },
      "execution_count": 23,
      "outputs": [
        {
          "output_type": "stream",
          "name": "stdout",
          "text": [
            "Visualizing preview - this may take awhile. You may proceed with other steps while without waiting.\n",
            "\n"
          ]
        },
        {
          "output_type": "display_data",
          "data": {
            "text/plain": [
              "<folium.folium.Map at 0x78bc1b3edea0>"
            ],
            "text/html": [
              "<div style=\"width:100%;\"><div style=\"position:relative;width:100%;height:0;padding-bottom:60%;\"><span style=\"color:#565656\">Make this Notebook Trusted to load map: File -> Trust Notebook</span><iframe srcdoc=\"&lt;!DOCTYPE html&gt;\n",
              "&lt;html&gt;\n",
              "&lt;head&gt;\n",
              "    \n",
              "    &lt;meta http-equiv=&quot;content-type&quot; content=&quot;text/html; charset=UTF-8&quot; /&gt;\n",
              "    \n",
              "        &lt;script&gt;\n",
              "            L_NO_TOUCH = false;\n",
              "            L_DISABLE_3D = false;\n",
              "        &lt;/script&gt;\n",
              "    \n",
              "    &lt;style&gt;html, body {width: 100%;height: 100%;margin: 0;padding: 0;}&lt;/style&gt;\n",
              "    &lt;style&gt;#map {position:absolute;top:0;bottom:0;right:0;left:0;}&lt;/style&gt;\n",
              "    &lt;script src=&quot;https://cdn.jsdelivr.net/npm/leaflet@1.9.3/dist/leaflet.js&quot;&gt;&lt;/script&gt;\n",
              "    &lt;script src=&quot;https://code.jquery.com/jquery-1.12.4.min.js&quot;&gt;&lt;/script&gt;\n",
              "    &lt;script src=&quot;https://cdn.jsdelivr.net/npm/bootstrap@5.2.2/dist/js/bootstrap.bundle.min.js&quot;&gt;&lt;/script&gt;\n",
              "    &lt;script src=&quot;https://cdnjs.cloudflare.com/ajax/libs/Leaflet.awesome-markers/2.0.2/leaflet.awesome-markers.js&quot;&gt;&lt;/script&gt;\n",
              "    &lt;link rel=&quot;stylesheet&quot; href=&quot;https://cdn.jsdelivr.net/npm/leaflet@1.9.3/dist/leaflet.css&quot;/&gt;\n",
              "    &lt;link rel=&quot;stylesheet&quot; href=&quot;https://cdn.jsdelivr.net/npm/bootstrap@5.2.2/dist/css/bootstrap.min.css&quot;/&gt;\n",
              "    &lt;link rel=&quot;stylesheet&quot; href=&quot;https://netdna.bootstrapcdn.com/bootstrap/3.0.0/css/bootstrap.min.css&quot;/&gt;\n",
              "    &lt;link rel=&quot;stylesheet&quot; href=&quot;https://cdn.jsdelivr.net/npm/@fortawesome/fontawesome-free@6.2.0/css/all.min.css&quot;/&gt;\n",
              "    &lt;link rel=&quot;stylesheet&quot; href=&quot;https://cdnjs.cloudflare.com/ajax/libs/Leaflet.awesome-markers/2.0.2/leaflet.awesome-markers.css&quot;/&gt;\n",
              "    &lt;link rel=&quot;stylesheet&quot; href=&quot;https://cdn.jsdelivr.net/gh/python-visualization/folium/folium/templates/leaflet.awesome.rotate.min.css&quot;/&gt;\n",
              "    \n",
              "            &lt;meta name=&quot;viewport&quot; content=&quot;width=device-width,\n",
              "                initial-scale=1.0, maximum-scale=1.0, user-scalable=no&quot; /&gt;\n",
              "            &lt;style&gt;\n",
              "                #map_47d020ca4af2953c70a98b0cb7943820 {\n",
              "                    position: relative;\n",
              "                    width: 1024.0px;\n",
              "                    height: 600.0px;\n",
              "                    left: 0.0%;\n",
              "                    top: 0.0%;\n",
              "                }\n",
              "                .leaflet-container { font-size: 1rem; }\n",
              "            &lt;/style&gt;\n",
              "        \n",
              "&lt;/head&gt;\n",
              "&lt;body&gt;\n",
              "    \n",
              "    \n",
              "            &lt;div class=&quot;folium-map&quot; id=&quot;map_47d020ca4af2953c70a98b0cb7943820&quot; &gt;&lt;/div&gt;\n",
              "        \n",
              "&lt;/body&gt;\n",
              "&lt;script&gt;\n",
              "    \n",
              "    \n",
              "            var map_47d020ca4af2953c70a98b0cb7943820 = L.map(\n",
              "                &quot;map_47d020ca4af2953c70a98b0cb7943820&quot;,\n",
              "                {\n",
              "                    center: [0, 0],\n",
              "                    crs: L.CRS.EPSG3857,\n",
              "                    zoom: 1,\n",
              "                    zoomControl: true,\n",
              "                    preferCanvas: false,\n",
              "                    startZoom: 9,\n",
              "                }\n",
              "            );\n",
              "\n",
              "            \n",
              "\n",
              "        \n",
              "    \n",
              "            var tile_layer_311210a1cce08935d598b7bacb56050e = L.tileLayer(\n",
              "                &quot;https://{s}.tile.openstreetmap.org/{z}/{x}/{y}.png&quot;,\n",
              "                {&quot;attribution&quot;: &quot;Data by \\u0026copy; \\u003ca target=\\&quot;_blank\\&quot; href=\\&quot;http://openstreetmap.org\\&quot;\\u003eOpenStreetMap\\u003c/a\\u003e, under \\u003ca target=\\&quot;_blank\\&quot; href=\\&quot;http://www.openstreetmap.org/copyright\\&quot;\\u003eODbL\\u003c/a\\u003e.&quot;, &quot;detectRetina&quot;: false, &quot;maxNativeZoom&quot;: 18, &quot;maxZoom&quot;: 18, &quot;minZoom&quot;: 0, &quot;noWrap&quot;: false, &quot;opacity&quot;: 1, &quot;subdomains&quot;: &quot;abc&quot;, &quot;tms&quot;: false}\n",
              "            ).addTo(map_47d020ca4af2953c70a98b0cb7943820);\n",
              "        \n",
              "    \n",
              "            var tile_layer_2bf2258c25e074ce117e0c67ec18c293 = L.tileLayer(\n",
              "                &quot;https://earthengine.googleapis.com/v1/projects/ground-public-datasets/maps/95ca41f4fb161c8cef22b9bd8deecbc0-a3127c64042fcf70770cae7e64f6f5ef/tiles/{z}/{x}/{y}&quot;,\n",
              "                {&quot;attribution&quot;: &quot;Map Data \\u0026copy; \\u003ca href=\\&quot;https://earthengine.google.com/\\&quot;\\u003eGoogle Earth Engine\\u003c/a\\u003e&quot;, &quot;detectRetina&quot;: false, &quot;maxNativeZoom&quot;: 18, &quot;maxZoom&quot;: 18, &quot;minZoom&quot;: 9, &quot;noWrap&quot;: false, &quot;opacity&quot;: 1, &quot;subdomains&quot;: &quot;abc&quot;, &quot;tms&quot;: false}\n",
              "            ).addTo(map_47d020ca4af2953c70a98b0cb7943820);\n",
              "        \n",
              "    \n",
              "            map_47d020ca4af2953c70a98b0cb7943820.fitBounds(\n",
              "                [[4.739342163910913, -3.255652117831363], [11.165160939128013, 1.200318633161377]],\n",
              "                {}\n",
              "            );\n",
              "        \n",
              "&lt;/script&gt;\n",
              "&lt;/html&gt;\" style=\"position:absolute;width:100%;height:100%;left:0;top:0;border:none !important;\" allowfullscreen webkitallowfullscreen mozallowfullscreen></iframe></div></div>"
            ]
          },
          "metadata": {}
        }
      ]
    },
    {
      "cell_type": "markdown",
      "source": [
        "## Export GeoTIFFs"
      ],
      "metadata": {
        "id": "Y0YdGN-QX39_"
      }
    },
    {
      "cell_type": "markdown",
      "source": [
        "### Prepare task params"
      ],
      "metadata": {
        "id": "z2T1OD34BzF-"
      }
    },
    {
      "cell_type": "code",
      "source": [
        "def build_export_task(image, extent, max_zoom, file_name_prefix, dimensions):\n",
        "  x, y, z = extent\n",
        "  return {\n",
        "    'fileFormat': 'GeoTIFF',\n",
        "    'image': image,\n",
        "     # Note: Region is specified in the source image's CRS, not the target one.\n",
        "    'region': tile_to_ee_bbox(extent),\n",
        "    'description': f\"Export-{COUNTRY_NAME}-{z}-{x}-{y}\",\n",
        "    'bucket': DEST_BUCKET,\n",
        "    'fileNamePrefix': file_name_prefix,\n",
        "    'maxWorkers': 2000,\n",
        "    'maxPixels': dimensions * dimensions,\n",
        "    'dimensions': dimensions,\n",
        "    'fileDimensions': dimensions,\n",
        "    'crs': \"EPSG:3857\"\n",
        "  }\n",
        "\n",
        "# Hi-res images.\n",
        "tasks = [build_export_task(\n",
        "    image=image,\n",
        "    extent=extent,\n",
        "    max_zoom=HI_RES_MAX_ZOOM,\n",
        "    file_name_prefix=f\"{DEST_PATH}/{extent.z}/{extent.x}/{extent.y}\",\n",
        "    dimensions=hi_res_dim)\n",
        " for extent in aoi_tileset_extents]\n",
        "\n",
        "# Lo-res \"world\" image.\n",
        "WORLD = mercantile.Tile(0, 0, 0)\n",
        "tasks += [build_export_task(\n",
        "    image=image,\n",
        "    extent=WORLD,\n",
        "    max_zoom=HI_RES_MIN_ZOOM - 1,\n",
        "    file_name_prefix=f\"{DEST_PATH}/{HI_RES_MIN_ZOOM}/world\",\n",
        "    dimensions=lo_res_dim)]\n",
        "\n",
        "print(len(tasks), \"task(s) ready to run\")"
      ],
      "metadata": {
        "colab": {
          "base_uri": "https://localhost:8080/"
        },
        "id": "YlZkzJs_GA0W",
        "outputId": "4af143c2-a46e-49cd-aebc-eaa13205240a"
      },
      "execution_count": 24,
      "outputs": [
        {
          "output_type": "stream",
          "name": "stdout",
          "text": [
            "19 task(s) ready to run\n"
          ]
        }
      ]
    },
    {
      "cell_type": "markdown",
      "source": [
        "### Run tasks"
      ],
      "metadata": {
        "id": "Vpk_OhXA_3Ee"
      }
    },
    {
      "cell_type": "code",
      "source": [
        "from google.cloud import storage\n",
        "\n",
        "# Uncomment to overwrite.\n",
        "# OVERWRITE_EXISTING=True\n",
        "\n",
        "# Access dest bucket to check if files already exist.\n",
        "storage_client = storage.Client(credentials=ee.data._credentials)\n",
        "bucket = storage_client.bucket(DEST_BUCKET)\n",
        "\n",
        "# https://google-auth-oauthlib.readthedocs.io/en/latest/reference/google_auth_oauthlib.flow.html\n",
        "# Export missing tilesets.\n",
        "print(\"Starting tasks. See running tasks at https://code.earthengine.google.com/tasks\")\n",
        "for i, t in enumerate(tasks):\n",
        "  name = t['fileNamePrefix'] + '.tif'\n",
        "  blob = storage.Blob(name, bucket)\n",
        "  if (not OVERWRITE_EXISTING and blob.exists(storage_client)):\n",
        "    print(blob.public_url, 'exists, skipping.')\n",
        "  else:\n",
        "    task = ee.batch.Export.image.toCloudStorage(**t)\n",
        "    task.start()\n",
        "    print(i, task, name)\n",
        "\n",
        "print(\"Export tasks started\")\n"
      ],
      "metadata": {
        "colab": {
          "base_uri": "https://localhost:8080/"
        },
        "id": "ZKzjH0EP_vyC",
        "outputId": "f113355a-9fa2-4f52-aaf1-97a795c172fd"
      },
      "execution_count": 25,
      "outputs": [
        {
          "output_type": "stream",
          "name": "stdout",
          "text": [
            "Starting tasks. See running tasks at https://code.earthengine.google.com/tasks\n",
            "0 <Task DUEWUOWJXX24REOY5FGTDYJV Type.EXPORT_IMAGE: Export-Ghana-8-125-120 (State.UNSUBMITTED)> 2022/geotiff/8/125/120.tif\n",
            "1 <Task FB5D72JMNSG7X24MV6MPBHES Type.EXPORT_IMAGE: Export-Ghana-8-125-122 (State.UNSUBMITTED)> 2022/geotiff/8/125/122.tif\n",
            "2 <Task J3EGTA6ZYRVSB5M7KR35MDQZ Type.EXPORT_IMAGE: Export-Ghana-8-125-123 (State.UNSUBMITTED)> 2022/geotiff/8/125/123.tif\n",
            "3 <Task MCMJ665CSCHW4UFIDYRUMAR7 Type.EXPORT_IMAGE: Export-Ghana-8-125-124 (State.UNSUBMITTED)> 2022/geotiff/8/125/124.tif\n",
            "4 <Task LUTXLPOOJSTULWXRBELWLDK6 Type.EXPORT_IMAGE: Export-Ghana-8-126-120 (State.UNSUBMITTED)> 2022/geotiff/8/126/120.tif\n",
            "5 <Task HSBK73KO4SJK2SC27J7XTIUV Type.EXPORT_IMAGE: Export-Ghana-8-126-121 (State.UNSUBMITTED)> 2022/geotiff/8/126/121.tif\n",
            "6 <Task L5CVG7BO6TGMDBETIF23BXWU Type.EXPORT_IMAGE: Export-Ghana-8-126-122 (State.UNSUBMITTED)> 2022/geotiff/8/126/122.tif\n",
            "7 <Task 34DQRTTJAYA4YPE5QCEMRVG4 Type.EXPORT_IMAGE: Export-Ghana-8-126-123 (State.UNSUBMITTED)> 2022/geotiff/8/126/123.tif\n",
            "8 <Task OJTRPVACLSMPAROK6ANZK4SV Type.EXPORT_IMAGE: Export-Ghana-8-126-124 (State.UNSUBMITTED)> 2022/geotiff/8/126/124.tif\n",
            "9 <Task NFRB7EJDMRL5PAZCJ472WFFA Type.EXPORT_IMAGE: Export-Ghana-8-127-120 (State.UNSUBMITTED)> 2022/geotiff/8/127/120.tif\n",
            "10 <Task GLKXY5LB5Y4LUG2HCL6X3TA2 Type.EXPORT_IMAGE: Export-Ghana-8-127-121 (State.UNSUBMITTED)> 2022/geotiff/8/127/121.tif\n",
            "11 <Task ER7GGJK7WYM2VVEXH6CSY6NJ Type.EXPORT_IMAGE: Export-Ghana-8-127-122 (State.UNSUBMITTED)> 2022/geotiff/8/127/122.tif\n",
            "12 <Task UA3GS2CHYH4H5EOAMHJKCNDF Type.EXPORT_IMAGE: Export-Ghana-8-127-123 (State.UNSUBMITTED)> 2022/geotiff/8/127/123.tif\n",
            "13 <Task G7KRAKGLK6MDMHZMF2VFLOSX Type.EXPORT_IMAGE: Export-Ghana-8-127-124 (State.UNSUBMITTED)> 2022/geotiff/8/127/124.tif\n",
            "14 <Task VCJXLWOAE5PULZ5XFALYUVBQ Type.EXPORT_IMAGE: Export-Ghana-8-128-120 (State.UNSUBMITTED)> 2022/geotiff/8/128/120.tif\n",
            "15 <Task LST5XFYK23EEWZ2PJCLERWWZ Type.EXPORT_IMAGE: Export-Ghana-8-128-121 (State.UNSUBMITTED)> 2022/geotiff/8/128/121.tif\n",
            "16 <Task PD2MWBVHRGKKKJOYFU2PVP4S Type.EXPORT_IMAGE: Export-Ghana-8-128-122 (State.UNSUBMITTED)> 2022/geotiff/8/128/122.tif\n",
            "17 <Task I3VLW4HCYWXQAAQYTVMJUZ7N Type.EXPORT_IMAGE: Export-Ghana-8-128-123 (State.UNSUBMITTED)> 2022/geotiff/8/128/123.tif\n",
            "https://storage.googleapis.com/ground-raster-basemaps/2022/geotiff/8/world.tif exists, skipping.\n",
            "Export tasks started\n"
          ]
        }
      ]
    },
    {
      "cell_type": "markdown",
      "source": [
        "## Next steps\n",
        "\n",
        "Once the above tasks complete, proceed to run [Build COGs from exported GeoTIFFs](TODO).\n",
        "\n",
        "If tasks fail, if `OVERWRITE_EXISTING=False` above, the export will only rerun for missing outputs."
      ],
      "metadata": {
        "id": "zaavOtANCStn"
      }
    }
  ]
}